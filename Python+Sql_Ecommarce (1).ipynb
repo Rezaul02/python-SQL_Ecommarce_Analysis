{
 "cells": [
  {
   "cell_type": "code",
   "execution_count": 3,
   "id": "dc264dbc-c396-43e2-8d8b-eb65d11a5865",
   "metadata": {},
   "outputs": [],
   "source": [
    "import pandas as pd \n",
    "import matplotlib.pyplot as plt \n",
    "import seaborn as sns \n",
    "import mysql.connector \n",
    "DB=mysql.connector.connect(host=\"localhost\",\n",
    "                          username=\"ecomarce\",\n",
    "                          password=\"123\", \n",
    "                          database=\"ecomarce\")\n",
    "cur=DB.cursor()"
   ]
  },
  {
   "cell_type": "markdown",
   "id": "91ea5fa1-173b-4552-af84-8650429977db",
   "metadata": {},
   "source": [
    "#  List all unique cities where customers are located."
   ]
  },
  {
   "cell_type": "code",
   "execution_count": 3,
   "id": "f6e2615e-d097-4da4-a0f4-dc120b1395ea",
   "metadata": {},
   "outputs": [
    {
     "data": {
      "text/html": [
       "<div>\n",
       "<style scoped>\n",
       "    .dataframe tbody tr th:only-of-type {\n",
       "        vertical-align: middle;\n",
       "    }\n",
       "\n",
       "    .dataframe tbody tr th {\n",
       "        vertical-align: top;\n",
       "    }\n",
       "\n",
       "    .dataframe thead th {\n",
       "        text-align: right;\n",
       "    }\n",
       "</style>\n",
       "<table border=\"1\" class=\"dataframe\">\n",
       "  <thead>\n",
       "    <tr style=\"text-align: right;\">\n",
       "      <th></th>\n",
       "      <th>0</th>\n",
       "    </tr>\n",
       "  </thead>\n",
       "  <tbody>\n",
       "    <tr>\n",
       "      <th>0</th>\n",
       "      <td>franca</td>\n",
       "    </tr>\n",
       "    <tr>\n",
       "      <th>1</th>\n",
       "      <td>sao bernardo do campo</td>\n",
       "    </tr>\n",
       "    <tr>\n",
       "      <th>2</th>\n",
       "      <td>sao paulo</td>\n",
       "    </tr>\n",
       "    <tr>\n",
       "      <th>3</th>\n",
       "      <td>mogi das cruzes</td>\n",
       "    </tr>\n",
       "    <tr>\n",
       "      <th>4</th>\n",
       "      <td>campinas</td>\n",
       "    </tr>\n",
       "    <tr>\n",
       "      <th>...</th>\n",
       "      <td>...</td>\n",
       "    </tr>\n",
       "    <tr>\n",
       "      <th>4114</th>\n",
       "      <td>siriji</td>\n",
       "    </tr>\n",
       "    <tr>\n",
       "      <th>4115</th>\n",
       "      <td>natividade da serra</td>\n",
       "    </tr>\n",
       "    <tr>\n",
       "      <th>4116</th>\n",
       "      <td>monte bonito</td>\n",
       "    </tr>\n",
       "    <tr>\n",
       "      <th>4117</th>\n",
       "      <td>sao rafael</td>\n",
       "    </tr>\n",
       "    <tr>\n",
       "      <th>4118</th>\n",
       "      <td>eugenio de castro</td>\n",
       "    </tr>\n",
       "  </tbody>\n",
       "</table>\n",
       "<p>4119 rows × 1 columns</p>\n",
       "</div>"
      ],
      "text/plain": [
       "                          0\n",
       "0                    franca\n",
       "1     sao bernardo do campo\n",
       "2                 sao paulo\n",
       "3           mogi das cruzes\n",
       "4                  campinas\n",
       "...                     ...\n",
       "4114                 siriji\n",
       "4115    natividade da serra\n",
       "4116           monte bonito\n",
       "4117             sao rafael\n",
       "4118      eugenio de castro\n",
       "\n",
       "[4119 rows x 1 columns]"
      ]
     },
     "execution_count": 3,
     "metadata": {},
     "output_type": "execute_result"
    }
   ],
   "source": [
    "query=\"\"\" select distinct customer_city from customers  \"\"\"\n",
    "cur.execute(query)\n",
    "data=cur.fetchall()\n",
    "df=pd.DataFrame(data )\n",
    "df"
   ]
  },
  {
   "cell_type": "code",
   "execution_count": 8,
   "id": "8da7f4e4-c3c3-4878-b1b8-73338950b3a4",
   "metadata": {},
   "outputs": [
    {
     "data": {
      "text/plain": [
       "[(4119,)]"
      ]
     },
     "execution_count": 8,
     "metadata": {},
     "output_type": "execute_result"
    }
   ],
   "source": [
    "query=\"\"\" select count(distinct customer_city ) from customers  \"\"\"\n",
    "cur.execute(query)\n",
    "data=cur.fetchall()\n",
    "data"
   ]
  },
  {
   "cell_type": "markdown",
   "id": "16b9b431-99f8-4567-89b8-f44381b01c00",
   "metadata": {},
   "source": [
    "# Count the number of orders placed in 2017."
   ]
  },
  {
   "cell_type": "code",
   "execution_count": 10,
   "id": "6c4f16b4-5671-45c8-aa00-f169c7b7082b",
   "metadata": {},
   "outputs": [
    {
     "data": {
      "text/plain": [
       "90202"
      ]
     },
     "execution_count": 10,
     "metadata": {},
     "output_type": "execute_result"
    }
   ],
   "source": [
    "query=\"\"\" select count(order_id) from orders where year(order_purchase_timestamp)=2017 \"\"\"\n",
    "cur.execute(query)\n",
    "data=cur.fetchall()\n",
    "data[0][0]"
   ]
  },
  {
   "cell_type": "markdown",
   "id": "f9a6abb1-c5a8-4714-8147-470662b237a3",
   "metadata": {},
   "source": [
    "#  Find the total sales per category."
   ]
  },
  {
   "cell_type": "code",
   "execution_count": 1,
   "id": "83bcf0df-6595-4993-bad8-be98b569bb19",
   "metadata": {},
   "outputs": [
    {
     "ename": "NameError",
     "evalue": "name 'cur' is not defined",
     "output_type": "error",
     "traceback": [
      "\u001b[1;31m---------------------------------------------------------------------------\u001b[0m",
      "\u001b[1;31mNameError\u001b[0m                                 Traceback (most recent call last)",
      "Cell \u001b[1;32mIn[1], line 5\u001b[0m\n\u001b[0;32m      1\u001b[0m query\u001b[38;5;241m=\u001b[39m\u001b[38;5;124m\"\"\"\u001b[39m\u001b[38;5;124m select products.product_category category, round(sum(payments.payment_value), 2)\u001b[39m\n\u001b[0;32m      2\u001b[0m \u001b[38;5;124mfrom products join order_items on products.product_id  = order_items.product_id join payments on payments.order_id =order_items.order_id group by category\u001b[39m\n\u001b[0;32m      3\u001b[0m \n\u001b[0;32m      4\u001b[0m \u001b[38;5;124m\"\"\"\u001b[39m\n\u001b[1;32m----> 5\u001b[0m cur\u001b[38;5;241m.\u001b[39mexecute(query)\n\u001b[0;32m      6\u001b[0m data\u001b[38;5;241m=\u001b[39mcur\u001b[38;5;241m.\u001b[39mfetchall()\n\u001b[0;32m      7\u001b[0m data[\u001b[38;5;241m0\u001b[39m][\u001b[38;5;241m0\u001b[39m]\n",
      "\u001b[1;31mNameError\u001b[0m: name 'cur' is not defined"
     ]
    }
   ],
   "source": [
    "query=\"\"\" select products.product_category category, round(sum(payments.payment_value), 2)\n",
    "from products join order_items on products.product_id  = order_items.product_id join payments on payments.order_id =order_items.order_id group by category\n",
    "\n",
    "\"\"\"\n",
    "cur.execute(query)\n",
    "data=cur.fetchall()\n",
    "data[0][0]"
   ]
  },
  {
   "cell_type": "markdown",
   "id": "2c083987-fd88-400b-90ec-fc9812702ebe",
   "metadata": {},
   "source": [
    "# Calculate the percentage of orders that were paid in installments."
   ]
  },
  {
   "cell_type": "code",
   "execution_count": 12,
   "id": "89ce3805-0da5-4e4b-9ad1-aad08b09491b",
   "metadata": {},
   "outputs": [
    {
     "name": "stdout",
     "output_type": "stream",
     "text": [
      "the percentage of orders that were paid in installments 99.9981\n"
     ]
    }
   ],
   "source": [
    "query=\"\"\" select (sum(case when payment_installments >=1  then 1\n",
    "else 0 end) )/count(*)*100 from payments \n",
    "\n",
    "\"\"\"\n",
    "cur.execute(query)\n",
    "data=cur.fetchall()\n",
    "\n",
    "print(\"the percentage of orders that were paid in installments\", data[0][0])"
   ]
  },
  {
   "cell_type": "markdown",
   "id": "63555a01-8e5d-4714-abf5-1b2c078766c2",
   "metadata": {},
   "source": [
    "# 5. Count the number of customers from each state."
   ]
  },
  {
   "cell_type": "code",
   "execution_count": 34,
   "id": "fadc392a-2416-4b89-9fdd-f0c37496c76e",
   "metadata": {},
   "outputs": [
    {
     "data": {
      "text/html": [
       "<div>\n",
       "<style scoped>\n",
       "    .dataframe tbody tr th:only-of-type {\n",
       "        vertical-align: middle;\n",
       "    }\n",
       "\n",
       "    .dataframe tbody tr th {\n",
       "        vertical-align: top;\n",
       "    }\n",
       "\n",
       "    .dataframe thead th {\n",
       "        text-align: right;\n",
       "    }\n",
       "</style>\n",
       "<table border=\"1\" class=\"dataframe\">\n",
       "  <thead>\n",
       "    <tr style=\"text-align: right;\">\n",
       "      <th></th>\n",
       "      <th>state</th>\n",
       "      <th>country_count</th>\n",
       "    </tr>\n",
       "  </thead>\n",
       "  <tbody>\n",
       "    <tr>\n",
       "      <th>25</th>\n",
       "      <td>SP</td>\n",
       "      <td>83492</td>\n",
       "    </tr>\n",
       "    <tr>\n",
       "      <th>18</th>\n",
       "      <td>RJ</td>\n",
       "      <td>25704</td>\n",
       "    </tr>\n",
       "    <tr>\n",
       "      <th>10</th>\n",
       "      <td>MG</td>\n",
       "      <td>23270</td>\n",
       "    </tr>\n",
       "    <tr>\n",
       "      <th>22</th>\n",
       "      <td>RS</td>\n",
       "      <td>10932</td>\n",
       "    </tr>\n",
       "    <tr>\n",
       "      <th>17</th>\n",
       "      <td>PR</td>\n",
       "      <td>10090</td>\n",
       "    </tr>\n",
       "    <tr>\n",
       "      <th>23</th>\n",
       "      <td>SC</td>\n",
       "      <td>7274</td>\n",
       "    </tr>\n",
       "    <tr>\n",
       "      <th>4</th>\n",
       "      <td>BA</td>\n",
       "      <td>6760</td>\n",
       "    </tr>\n",
       "    <tr>\n",
       "      <th>6</th>\n",
       "      <td>DF</td>\n",
       "      <td>4280</td>\n",
       "    </tr>\n",
       "    <tr>\n",
       "      <th>7</th>\n",
       "      <td>ES</td>\n",
       "      <td>4066</td>\n",
       "    </tr>\n",
       "    <tr>\n",
       "      <th>8</th>\n",
       "      <td>GO</td>\n",
       "      <td>4040</td>\n",
       "    </tr>\n",
       "    <tr>\n",
       "      <th>15</th>\n",
       "      <td>PE</td>\n",
       "      <td>3304</td>\n",
       "    </tr>\n",
       "    <tr>\n",
       "      <th>5</th>\n",
       "      <td>CE</td>\n",
       "      <td>2672</td>\n",
       "    </tr>\n",
       "    <tr>\n",
       "      <th>13</th>\n",
       "      <td>PA</td>\n",
       "      <td>1950</td>\n",
       "    </tr>\n",
       "    <tr>\n",
       "      <th>12</th>\n",
       "      <td>MT</td>\n",
       "      <td>1814</td>\n",
       "    </tr>\n",
       "    <tr>\n",
       "      <th>9</th>\n",
       "      <td>MA</td>\n",
       "      <td>1494</td>\n",
       "    </tr>\n",
       "    <tr>\n",
       "      <th>11</th>\n",
       "      <td>MS</td>\n",
       "      <td>1430</td>\n",
       "    </tr>\n",
       "    <tr>\n",
       "      <th>14</th>\n",
       "      <td>PB</td>\n",
       "      <td>1072</td>\n",
       "    </tr>\n",
       "    <tr>\n",
       "      <th>16</th>\n",
       "      <td>PI</td>\n",
       "      <td>990</td>\n",
       "    </tr>\n",
       "    <tr>\n",
       "      <th>19</th>\n",
       "      <td>RN</td>\n",
       "      <td>970</td>\n",
       "    </tr>\n",
       "    <tr>\n",
       "      <th>1</th>\n",
       "      <td>AL</td>\n",
       "      <td>826</td>\n",
       "    </tr>\n",
       "    <tr>\n",
       "      <th>24</th>\n",
       "      <td>SE</td>\n",
       "      <td>700</td>\n",
       "    </tr>\n",
       "    <tr>\n",
       "      <th>26</th>\n",
       "      <td>TO</td>\n",
       "      <td>560</td>\n",
       "    </tr>\n",
       "    <tr>\n",
       "      <th>20</th>\n",
       "      <td>RO</td>\n",
       "      <td>506</td>\n",
       "    </tr>\n",
       "    <tr>\n",
       "      <th>2</th>\n",
       "      <td>AM</td>\n",
       "      <td>296</td>\n",
       "    </tr>\n",
       "    <tr>\n",
       "      <th>0</th>\n",
       "      <td>AC</td>\n",
       "      <td>162</td>\n",
       "    </tr>\n",
       "    <tr>\n",
       "      <th>3</th>\n",
       "      <td>AP</td>\n",
       "      <td>136</td>\n",
       "    </tr>\n",
       "    <tr>\n",
       "      <th>21</th>\n",
       "      <td>RR</td>\n",
       "      <td>92</td>\n",
       "    </tr>\n",
       "  </tbody>\n",
       "</table>\n",
       "</div>"
      ],
      "text/plain": [
       "   state  country_count\n",
       "25    SP          83492\n",
       "18    RJ          25704\n",
       "10    MG          23270\n",
       "22    RS          10932\n",
       "17    PR          10090\n",
       "23    SC           7274\n",
       "4     BA           6760\n",
       "6     DF           4280\n",
       "7     ES           4066\n",
       "8     GO           4040\n",
       "15    PE           3304\n",
       "5     CE           2672\n",
       "13    PA           1950\n",
       "12    MT           1814\n",
       "9     MA           1494\n",
       "11    MS           1430\n",
       "14    PB           1072\n",
       "16    PI            990\n",
       "19    RN            970\n",
       "1     AL            826\n",
       "24    SE            700\n",
       "26    TO            560\n",
       "20    RO            506\n",
       "2     AM            296\n",
       "0     AC            162\n",
       "3     AP            136\n",
       "21    RR             92"
      ]
     },
     "execution_count": 34,
     "metadata": {},
     "output_type": "execute_result"
    }
   ],
   "source": [
    "query=\"\"\"  \n",
    "SELECT customer_state, count(customer_id ) FROM customers GROUP BY customer_state\n",
    "\"\"\"\n",
    "cur.execute(query)\n",
    "data=cur.fetchall()\n",
    "df=pd.DataFrame(data , columns=['state' , 'country_count'])\n",
    "df=df.sort_values(by=\"country_count\" , ascending=False)\n",
    "df\n",
    "\n",
    "\n",
    "\n"
   ]
  },
  {
   "cell_type": "code",
   "execution_count": 36,
   "id": "3102fffd-2d9a-410f-91fc-df55dc0d13a9",
   "metadata": {},
   "outputs": [
    {
     "data": {
      "image/png": "[encoded data removed]",
      "text/plain": [
       "<Figure size 640x480 with 1 Axes>"
      ]
     },
     "metadata": {},
     "output_type": "display_data"
    }
   ],
   "source": [
    "plt.bar(df['state'], df['country_count'])\n",
    "\n",
    "plt.xticks(rotation = 90)\n",
    "plt.show()"
   ]
  },
  {
   "cell_type": "markdown",
   "id": "8361baa7-fb96-4490-9d87-4a165f87b0ec",
   "metadata": {},
   "source": [
    "# Intermadiate part in thisd code "
   ]
  },
  {
   "cell_type": "markdown",
   "id": "eba59454-9b1b-49d2-b370-921b9c1ae35b",
   "metadata": {},
   "source": [
    "#  Calculate the number of orders per month in 2018."
   ]
  },
  {
   "cell_type": "code",
   "execution_count": 39,
   "id": "03678b91-78ce-4a9d-8357-8a65cbb472a6",
   "metadata": {},
   "outputs": [
    {
     "name": "stderr",
     "output_type": "stream",
     "text": [
      "C:\\Users\\Rezaul\\AppData\\Local\\Temp\\ipykernel_1100\\2294798405.py:11: FutureWarning: \n",
      "\n",
      "Passing `palette` without assigning `hue` is deprecated and will be removed in v0.14.0. Assign the `x` variable to `hue` and set `legend=False` for the same effect.\n",
      "\n",
      "  ax=sns.barplot(x=df['months'] ,y= df['count_of_order']  , order=o  , palette=\"viridis\")\n"
     ]
    },
    {
     "data": {
      "image/png": "[encoded data removed]",
      "text/plain": [
       "<Figure size 640x480 with 1 Axes>"
      ]
     },
     "metadata": {},
     "output_type": "display_data"
    }
   ],
   "source": [
    "query=\"\"\"  \n",
    "SELECT monthname(order_purchase_timestamp) months  , count(order_id) from orders where year(order_purchase_timestamp)=2018\n",
    "group by months\n",
    "\n",
    ";\n",
    "\"\"\"\n",
    "cur.execute(query)\n",
    "data=cur.fetchall()\n",
    "df=pd.DataFrame(data , columns=[\"months\" , \"count_of_order\"])\n",
    "o=[\"January\" ,'February', 'March',\"April\", \"May\", 'June','July' , \"Augest\" ,\"September\" ,\"October\" , \"November\", \"December\" ]\n",
    "ax=sns.barplot(x=df['months'] ,y= df['count_of_order']  , order=o  , palette=\"viridis\")\n",
    "ax.bar_label(ax.containers[0])\n",
    "plt.xticks(rotation=90)\n",
    "plt.show()"
   ]
  },
  {
   "cell_type": "markdown",
   "id": "9671c92f-4f85-457e-b7c2-d9f50428677b",
   "metadata": {},
   "source": [
    "# Find the average number of products per order, grouped by customer city."
   ]
  },
  {
   "cell_type": "code",
   "execution_count": null,
   "id": "e6d7dea3-72e9-4d90-922a-b9f5d537adaa",
   "metadata": {},
   "outputs": [],
   "source": [
    "query=\"\"\" \n",
    "WITH count_per_order AS (\n",
    "    SELECT \n",
    "        orders.order_id, \n",
    "        orders.customer_id, \n",
    "        COUNT(order_items.order_id) AS order_count -- Adding alias here\n",
    "    FROM \n",
    "        orders \n",
    "    JOIN \n",
    "        order_items ON orders.order_id = order_items.order_id\n",
    "    GROUP BY \n",
    "        orders.order_id, \n",
    "        orders.customer_id  \n",
    ")\n",
    "SELECT \n",
    "    customers.customer_city, \n",
    "    AVG(count_per_order.order_count) -- Updated alias to match\n",
    "FROM  \n",
    "    customers \n",
    "JOIN \n",
    "    count_per_order ON customers.customer_id = count_per_order.customer_id \n",
    "GROUP BY \n",
    "    customers.customer_city;\n",
    "\n",
    "\"\"\"\n",
    "cur.execute(query)\n",
    "data=cur.fetchall()\n",
    "data"
   ]
  },
  {
   "cell_type": "markdown",
   "id": "39469e42-dfaf-4c88-a20a-94e535629ef2",
   "metadata": {},
   "source": [
    "# Advance Query"
   ]
  },
  {
   "cell_type": "markdown",
   "id": "d5d0f4e8-8f60-42d3-9f15-e1a84ac5b142",
   "metadata": {},
   "source": [
    "# Calculate the moving average of order values for each customer over their order history"
   ]
  },
  {
   "cell_type": "code",
   "execution_count": 1,
   "id": "db4d66e1-af69-40c5-b60e-406b8c566d3e",
   "metadata": {},
   "outputs": [
    {
     "ename": "SyntaxError",
     "evalue": "unterminated triple-quoted string literal (detected at line 6) (4244428038.py, line 3)",
     "output_type": "error",
     "traceback": [
      "\u001b[1;36m  Cell \u001b[1;32mIn[1], line 3\u001b[1;36m\u001b[0m\n\u001b[1;33m    on payments.order_id = orders.order_id\"\"\"\u001b[0m\n\u001b[1;37m                                          ^\u001b[0m\n\u001b[1;31mSyntaxError\u001b[0m\u001b[1;31m:\u001b[0m unterminated triple-quoted string literal (detected at line 6)\n"
     ]
    }
   ],
   "source": [
    "query=\"\"\"\"\"\"SELECT orders.order_id, orders.order_purchase_timestamp , payments.payment_value\n",
    "FROM payments JOIN orders\n",
    "on payments.order_id = orders.order_id\"\"\"\n",
    "cur.execute(query)\n",
    "data=cur.fetchall()\n",
    "data\n"
   ]
  },
  {
   "cell_type": "code",
   "execution_count": null,
   "id": "9beabb91-8e42-4ac0-bc88-a014f82c1360",
   "metadata": {},
   "outputs": [],
   "source": []
  }
 ],
 "metadata": {
  "kernelspec": {
   "display_name": "Python 3 (ipykernel)",
   "language": "python",
   "name": "python3"
  },
  "language_info": {
   "codemirror_mode": {
    "name": "ipython",
    "version": 3
   },
   "file_extension": ".py",
   "mimetype": "text/x-python",
   "name": "python",
   "nbconvert_exporter": "python",
   "pygments_lexer": "ipython3",
   "version": "3.12.4"
  }
 },
 "nbformat": 4,
 "nbformat_minor": 5
}
